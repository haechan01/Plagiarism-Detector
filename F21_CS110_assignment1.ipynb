{
 "cells": [
  {
   "cell_type": "markdown",
   "id": "0f1cda0d",
   "metadata": {
    "deletable": false,
    "editable": false
   },
   "source": [
    "<div class=\"alert-warning\" style=\"font-size:250%\">\n",
    "CS110 assignment 1\n",
    "</div>\n",
    "\n",
    "Instead of a mini-project, which you will encounter in many of the upcoming CS110 assignments, in this first assignment you will be solving three independent problems. Use this opportunity to start your work early, finishing a question every week or so. Ideally, in the last week before the deadline, you will only have Q3 left to complete.\n",
    "\n",
    "Feel free to add more cells to the ones always provided in each question to expand your answers, as needed. Make sure to refer to the CS110 course guide:\n",
    "- on the grading guidelines, namely how many HC identifications and applications you are expected to include in each assignment.\n",
    "- on the resources you are expected to submit with each assignment submission.\n",
    "\n",
    "If you have any questions, do not hesitate to reach out to the TAs in the Slack channel \"#cs110-algo\", or come to one of your instructors' OHs.\n",
    "\n",
    "-----------------------------------------------"
   ]
  },
  {
   "cell_type": "markdown",
   "id": "8706beea",
   "metadata": {
    "deletable": false,
    "editable": false
   },
   "source": [
    "**Setting up notes:**\n",
    "1. Before you turn this problem in, make sure everything runs as expected. Click on `Kernel`$\\rightarrow$`Restart and Run All`.\n",
    "\n",
    "2. Do not change the names of the functions provided in the skeleton codes. \n",
    "\n",
    "3. Make sure you fill in any place that says `###YOUR CODE HERE` or \"YOUR ANSWER HERE\". Below, you will identify your name and collaborators."
   ]
  },
  {
   "cell_type": "markdown",
   "id": "8fbbcf15",
   "metadata": {
    "ExecuteTime": {
     "end_time": "2021-09-01T16:49:05.276707Z",
     "start_time": "2021-09-01T16:49:05.270752Z"
    }
   },
   "source": [
    "NAME = \"Haechan Oh\"\n",
    "\n",
    "COLLABORATORS = \"Hussen, Silen, Chris, Hayoung, Viktor\""
   ]
  },
  {
   "cell_type": "markdown",
   "id": "1b5d26bb",
   "metadata": {
    "deletable": false,
    "editable": false
   },
   "source": [
    "# Iteration vs. recursion\n",
    "\n",
    "A [Fibonacci Sequence](https://en.wikipedia.org/wiki/Fibonacci_number) is a list of numbers, in which each number is the sum of the two previous ones (starting with 0 and 1). Mathematically, we can write it as:\n",
    "- F(0) = 0\n",
    "- F(1) = 1\n",
    "- F(n) = F(n-1) + F(n-2) for n larger than 1.\n",
    "\n",
    "Your task is to compute the **n**th number in the sequence, where **n** is an input to the function.\n",
    "\n",
    "**(a)** Use the code skeletons below to **provide two solutions** to the problem: an **iterative**, and a **recursive** one. For the recursive solution, feel free to use a helper function or add keyword arguments to the given function.\n",
    "\n",
    "**(b)** In roughly 150 words: \n",
    "- **explain** how your solutions follow the iterative and recursive paradigms, respectively. \n",
    "- **discuss the pros and cons** of each approach as applied to this problem, and state which of your solutions you think is better, and why. Feel free to complement your answer with plots, if appropriate.\n",
    "- provide a word count."
   ]
  },
  {
   "cell_type": "code",
   "execution_count": 5,
   "id": "30712978",
   "metadata": {},
   "outputs": [
    {
     "data": {
      "text/plain": [
       "15"
      ]
     },
     "execution_count": 5,
     "metadata": {},
     "output_type": "execute_result"
    }
   ],
   "source": [
    "def fibonacci_iterative(n):\n",
    "    if n==0: #first number in a Fibonacci Sequence\n",
    "        return 0\n",
    "    elif n==1: #second number in a Fibonacci Sequence\n",
    "        return 1 \n",
    "    else: #if n is bigger than 1\n",
    "        for i in range(n): #iteratively runs the loop until i equals to the input number\n",
    "            n = (i-1)+(i-2) #sum of the two previous numbers\n",
    "        return n\n",
    "\n",
    "        \n",
    "\n",
    "def fibonacci_recursive(n):\n",
    "    if n==0: #base case of the recursive function\n",
    "        return 0 \n",
    "    elif n==1: #base case of the recursive function\n",
    "        return 1 \n",
    "    else: #if n is bigger than 1\n",
    "        return fibonacci_recursive(n-1) +fibonacci_recursive(n-2) #the function calls itself with two previous numbers for their inputs\n",
    "\n",
    "#it would give an error message if the arguments in assert function are False. \n",
    "assert fibonacci_iterative(0) == 0 \n",
    "assert fibonacci_recursive(0) == 0\n",
    "assert fibonacci_iterative(4) == 3\n",
    "assert fibonacci_recursive(4) == 3\n",
    "fibonacci_iterative(10)"
   ]
  },
  {
   "cell_type": "markdown",
   "id": "ae142489",
   "metadata": {},
   "source": [
    "I created the fibonacci_iterative function using for loop to iteratively add the two previous numbers. It will repeatedly execute until the controlling condition when the input number is greater than 1, becomes false. If the input number \n",
    "\n",
    "The fibonacci_recursive function has its base case of 0 and 1, which would return 0 and 1, respectively. If n is bigger than 1, the function would recursively call itself with two previous numbers as their inputs. In other words, the algorithm repeatedly breaks down the input into smaller and smaller numbers until it reaches the base case when the return value is smaller than 2. Then, it will add up all the base case numbers to return the Fibonacci(n). \n",
    "\n",
    "An iterative function is more efficient than recursive for most cases because the recursive function has a large amount of overhead due to the heavy call stack during recursion. This means that it will waste more time and memory to maintain the calls, especially as the input size gets bigger, while the iterative function provides a more direct, efficient approach to solve the same problem. Also, infinite repetition in recursion due to a mistake in defining base case could cause CPU crash, while iteration would stop when the memory is exhausted.\n",
    "The pros of a recursive function are that it is very easy to implement and understand. Thus, a recursive function could be preferred to an iterative function when there is not much difference between the performance due to small inputs.\n",
    "\n",
    "word count: "
   ]
  },
  {
   "cell_type": "markdown",
   "id": "620594f7",
   "metadata": {},
   "source": [
    "# Understanding and documenting code \n",
    "Imagine that you land your dream software engineering job, and among the first things you encounter is a previously written, poorly documented, and commented code.\n",
    "\n",
    "Asking others how it works proved fruitless, as the original developer left. You are left with no choice but to understand the code’s inner mechanisms, and document it properly for both yourself and others. The previous developer also left behind several tests that show the code working correctly, but you have a hunch that there might be some problems there, too. \n",
    "\n",
    "Your tasks are listed below. Here is the code (please do not edit the following cell!):"
   ]
  },
  {
   "cell_type": "code",
   "execution_count": 5,
   "id": "0aabfc09",
   "metadata": {
    "deletable": false,
    "editable": false
   },
   "outputs": [],
   "source": [
    "def my_sort(array):\n",
    "    \"\"\"\n",
    "    YOUR DOCSTRING HERE\n",
    "    \"\"\"\n",
    "    \n",
    "    # ...\n",
    "    for i in range(len(array)):\n",
    "        \n",
    "        # ...\n",
    "        item = array[i]\n",
    "        \n",
    "        # ...\n",
    "        intended_position = 0\n",
    "        for num in array:\n",
    "            if num < item:\n",
    "                intended_position += 1\n",
    "                \n",
    "        # ...\n",
    "        if i == intended_position:\n",
    "            continue\n",
    "        \n",
    "        # ...\n",
    "        array[intended_position], item = item, array[intended_position]\n",
    "        \n",
    "        # ...\n",
    "        while i != intended_position:\n",
    "            \n",
    "            # ...\n",
    "            intended_position = 0\n",
    "            for num in array:\n",
    "                if num < item:\n",
    "                    intended_position += 1\n",
    "            \n",
    "            # ...\n",
    "            array[intended_position], item = item, array[intended_position]\n",
    "            \n",
    "    return array"
   ]
  },
  {
   "cell_type": "markdown",
   "id": "4877645e",
   "metadata": {},
   "source": [
    "**(a)** Explain, in your own words, what the code is doing (it’s sorting an array, yes, but **how**?). Feel free to use diagrams, play around with the code in other cells, print test cases or partially sorted arrays, draw step by step images. In the end, you should produce an approximately 150-word write-up of how the code is processing the input array."
   ]
  },
  {
   "cell_type": "markdown",
   "id": "7cec848e",
   "metadata": {},
   "source": [
    "The algorithm's input is an array and returns a sorted array by running through it and moving each number to its correct (sorted) position successively. It uses a for loop to run through each of the array's positions, i. It names the current number in the position as 'item'and compares 'item' with the other numbers in the array from left to right. Then, the function finds how many numbers in the array are smaller than 'item.' If 'item' is bigger than n numbers, 'item' must be in n+1th position, or its 'intended_position' (i.e., if 'item' is bigger than 2 numbers (n=2), it should be in third position (intended position=2+1)); thus, the function swaps 'item' with 'intended_position's values to place 'item' to its correct position. This means that 'item' holds the number previously in 'intended_position,' and the function now compares this item with all numbers from first to last to find all smaller numbers than current 'item' and swap with the number in 'intended_position.' This will repeat until it finds a number where i is its 'intended_position,' finding a number that belongs to the position in a sorted array. If i was 0, the function will continue until it finds the smallest number in the array. The whole process continues until i reach the end position of the array."
   ]
  },
  {
   "cell_type": "markdown",
   "id": "a131f3aa",
   "metadata": {},
   "source": [
    "**(b)** Explain the difference between docstrings and comments. Add **both** a proper docstring and in-line comments to the code. You can follow the empty comments to guide you, but you can deviate, within reason. \n",
    "\n",
    "Please keep in mind:\n",
    "- Anyone from your section should be able to understand the code from your documentation. - Remember, however, that brevity is also a desirable feature.\n",
    "- Please do not modify the code above. Include your docstrings and in-line comments in the cell below instead. This is important—you want to keep track of your changes!"
   ]
  },
  {
   "cell_type": "code",
   "execution_count": 657,
   "id": "e1b864cc",
   "metadata": {},
   "outputs": [],
   "source": [
    "def my_sort(array):\n",
    "    \"\"\"\n",
    "    The function takes an array of numbers as input, and swaps the numbers until all the numbers are in order, \n",
    "    from smallest to largest.\n",
    "    Then, it will return the sorted array. \n",
    "    \n",
    "    Args: \n",
    "        array (arr): A list of numbers to be sorted. Numbers should be int or float. \n",
    "    \n",
    "    Returns: \n",
    "        array (arr): A sorted array of input numbers.\n",
    "    \n",
    "    \n",
    "    \"\"\"\n",
    "    \n",
    "    # the following loop will find the number in array that belongs to position i\n",
    "    for i in range(len(array)):\n",
    "        \n",
    "        # variable 'item' will hold the number that will be compared with others and be placed into its sorted position.\n",
    "        item = array[i]\n",
    "        \n",
    "        # the for loop counts how many numbers are smaller than 'item,' and the number of smaller ones \n",
    "        #which will be placed to the left of 'item'\n",
    "        intended_position = 0\n",
    "        for num in array:\n",
    "            if num < item:\n",
    "                intended_position += 1\n",
    "                \n",
    "        # if i is same as intended position, the item is in the right place so we can move on to the next number\n",
    "        if i == intended_position:\n",
    "            continue\n",
    "        \n",
    "        # swaps the number in item with the number in intended_position of the array\n",
    "        array[intended_position], item = item, array[intended_position]\n",
    "        \n",
    "        # the while loop runs until the intended position of current item equals to the position (i) of initial item\n",
    "        while i != intended_position:\n",
    "            \n",
    "            # compares new item with other numbers to find its position\n",
    "            intended_position = 0\n",
    "            for num in array:\n",
    "                if num < item:\n",
    "                    intended_position += 1\n",
    "            \n",
    "            # swaps the current item with its intended position\n",
    "            array[intended_position], item = item, array[intended_position]\n",
    "            \n",
    "    return array\n",
    "\n"
   ]
  },
  {
   "cell_type": "markdown",
   "id": "71c3e238",
   "metadata": {
    "ExecuteTime": {
     "end_time": "2021-09-01T17:11:34.750935Z",
     "start_time": "2021-09-01T17:11:34.746325Z"
    }
   },
   "source": [
    "**(c)** The previous developer included the following test cases with their code:\n",
    "```\n",
    "(1) assert my_sort([8, 5, 7]) == [5, 7, 8]\n",
    "\n",
    "(2) assert my_sort([10, 9, 8, 7, 6, 5, 4, 3, 2, 1]) == [1, 2, 3, 4, 5, 6, 7, 8, 9, 10]\n",
    "\n",
    "(3) input_array = [43, 99, 85, 45, 21, 58, 24, 12, 14, 64, \n",
    "19, 94, 56, 13, 51, 2, 37, 11, 8, 66, 3, 95, 93, 53, 35, \n",
    "81, 97, 9, 47, 78, 27, 50, 82, 71, 62, 59, 57, 42, 69, 72, \n",
    "30, 63, 18, 31, 32, 88, 92, 73, 10, 74, 41, 22, 1, 80, 5, \n",
    "60, 76, 52, 49, 77, 54, 44, 15, 7, 28, 84, 33, 83, 16, 91, \n",
    "67, 23, 87, 25, 79, 89, 34, 4, 38, 48, 6, 96, 39, 40, 68, \n",
    "55, 20, 36, 29, 65, 86, 70, 26, 98, 46, 90, 17, 0, 61, 75]\n",
    "assert my_sort(input_array) == sorted(input_array)\n",
    "```\n",
    "\n",
    "They are *not* sufficient though. Explain why not and fix the code in the cell below."
   ]
  },
  {
   "cell_type": "markdown",
   "id": "e1061daf",
   "metadata": {},
   "source": [
    "There are two types of problems: the list index can go out of range or the loop runs infinetely when the input array meets certain conditions. \n",
    "1. The while loop repeats infinetely when the array has identical numbers. This is because the intended positions of the identical numbers are the same because one is not greater than another so they have the same number of smaller elements.\n",
    "For instance, when the input is [1,-1,1,-1], the intended position of 1 will always be index 2, or the third position. The two 1s in the array will swap infinetely in the while loop because they both have two smaller numbers.\n",
    "\n",
    "2. The list index goes out of range because some types of inputs cause it to add an additional number to 'intended position.' When the biggest number is swapped with a number that's not in the last index of the array before the last swap, it will cause an error because it will be all the numbers in array are smaller. \n",
    "For instance, when the input is [2,3,1], 2 will swap with 3 to make [2,2,1] where 3 is in item. There are three numbers that are smaller than 3 which would make the intended position of 3 to be array[3], going out of the index. \n",
    "\n",
    "\n",
    "To fix the second problem, I removed item to make swaps in place. This will prevent list out of index problem because the biggest number will always be in the array, which would keep the number of elements smaller than the biggest number to (length of the array -1). "
   ]
  },
  {
   "cell_type": "code",
   "execution_count": 446,
   "id": "50151ef3",
   "metadata": {},
   "outputs": [
    {
     "data": {
      "text/plain": [
       "[-9, 0.0, 0, 0, 0, 0, 0, 0, 0, 0, 2, 2, 2, 2, 2, 2, 2.2, 4, 5, 344444]"
      ]
     },
     "execution_count": 446,
     "metadata": {},
     "output_type": "execute_result"
    }
   ],
   "source": [
    "def my_sort(array):\n",
    "    \"\"\"\n",
    "    The function takes an array of numbers as input, and swaps the numbers until all the numbers are in order, \n",
    "    from smallest to largest.\n",
    "    Then, it will return the sorted array. \n",
    "    \n",
    "    Args: \n",
    "        array: arr\n",
    "            A list of numbers to be sorted. Numbers should be int or float. \n",
    "    \n",
    "    Returns: \n",
    "        array: arr\n",
    "            A sorted array of input numbers.\n",
    "    \"\"\"\n",
    "    \n",
    "    # the following loop will find the number in array that belongs to position i\n",
    "    for i in range(len(array)):\n",
    "        \n",
    "        # revision: got rid of item to make swaps in place to fix the list index out of range problem\n",
    "        intended_position = 0\n",
    "        for num in array:\n",
    "            if num < array[i]:\n",
    "                intended_position += 1\n",
    "        # if i is same as intended position, the item is in the right place so we can move on to the next number\n",
    "        if i == intended_position:\n",
    "            continue\n",
    "        \n",
    "        # revision: makes a direct swap in place\n",
    "        array[intended_position], array[i] = array[i], array[intended_position]\n",
    "        \n",
    "        # revision: changed while loop to for loop \n",
    "        for j in range(len(array)):\n",
    "            intended_position = 0\n",
    "            for num in array:\n",
    "                if num < array[i]:\n",
    "                    intended_position += 1\n",
    "            # revision: when the number compared is same as the number in its intended position,\n",
    "            #and if the next position is not the last position, it will increase intended position by 1\n",
    "            while array[i] == array[intended_position] and intended_position+1 < len(array)-1:\n",
    "                intended_position += 1\n",
    "            array[intended_position], array[i] = array[i], array[intended_position]\n",
    "            \n",
    "    return array\n",
    "my_sort([2,2,4,0,0,0,0,0,2.2,0.0,2,5,344444,2,-9,2,2,0,0,0])"
   ]
  },
  {
   "cell_type": "markdown",
   "id": "310ace8b",
   "metadata": {},
   "source": [
    "# New and mixed sorting approaches \n",
    "In this question, you will implement and critique a previously unseen sorting algorithm. You will then combine it with another, known sorting algorithm, to see whether you can reach better behavior. \n",
    "\n",
    "**(a)** Use the following pseudocode to implement `merge_3_sort()`. It is similar to merge sort—only that instead of splitting the initial array into halves, you will now split it into thirds, call the function recursively on each sublist, and then merge the triplets together. You might want to refer to this [beautiful resource](https://drive.google.com/file/d/1XH5bNiHhVchVWoCDLBtvjsCFkL9cU0do/view?pli=1) written by Prof. Drummond for details about the regular merge sort algorithm."
   ]
  },
  {
   "cell_type": "code",
   "execution_count": 152,
   "id": "616dd3b1",
   "metadata": {},
   "outputs": [],
   "source": [
    "def merge_3_sort(array, p, s):\n",
    "    \"\"\"\n",
    "    Sorts array[p] to array[q] in place.\n",
    "    E.g., to sort an array A, we will run \n",
    "    `merge_3_sort(A, 0, len(A)-1)`.\n",
    "\n",
    "\n",
    "    Parameters\n",
    "    ----------\n",
    "    array : Python list or numpy array\n",
    "    p : int\n",
    "        index of array element to start sorting from\n",
    "    q : int\n",
    "        index of last array element to be sorted\n",
    "\n",
    "    Returns\n",
    "    -------\n",
    "    array: a sorted Python list\n",
    "\n",
    "    \"\"\"\n",
    "    if p<s:\n",
    "        q = p + ((s - p) // 3)\n",
    "        \n",
    "        r = p + 2 * ((s-p) // 3)\n",
    "        \n",
    "        merge_3_sort(array, p, q)\n",
    "        merge_3_sort(array, q + 1, r + 1)\n",
    "        merge_3_sort(array, r + 2, s)\n",
    "        merge_3(array, p, q, r, s)\n",
    "        return array\n",
    "    \n",
    "    \n",
    "def merge_3(array, p, q, r, s):\n",
    "    \"\"\"\n",
    "    Merges 3 sorted sublists \n",
    "    (array[p] to array[q], array[q+1] to array[r] and array[r+1] to array[s]) \n",
    "    in place.\n",
    "    \n",
    "    Parameters\n",
    "    ----------\n",
    "    array : Python list or numpy array\n",
    "    p : int\n",
    "        index of first element of first sublist\n",
    "    q : int\n",
    "        index of last element of first sublist\n",
    "    r : int\n",
    "        index of last element of second sublist\n",
    "    s : int\n",
    "        index of last element of third sublist\n",
    "\n",
    "    \"\"\"\n",
    "    First=array[p:q+1]\n",
    "    Second=array[q+1:r+2]\n",
    "    Third= array[r+2:s+1]\n",
    "    First.append(float('inf'))\n",
    "    Second.append(float('inf'))\n",
    "    Third.append(float('inf'))\n",
    "    i=0\n",
    "    j=0\n",
    "    l=0\n",
    "    for k in range(p,s+1):\n",
    "        if First[i]<=Second[j] and First[i]<= Third[l]:\n",
    "            array[k]=First[i]\n",
    "            i+=1\n",
    "        elif First[i]>=Second[j] and Second[j]<= Third[l]:\n",
    "            array[k]=Second[j]\n",
    "            j+=1\n",
    "        else:\n",
    "            array[k]=Third[l]\n",
    "            l+=1\n",
    "    return array"
   ]
  },
  {
   "cell_type": "markdown",
   "id": "7ae799ab",
   "metadata": {},
   "source": [
    "**(b)** Run at least 5 assert statements, which showcase that your code works as intended. In a few sentences, justify why your set of tests is appropriate and possibly sufficient."
   ]
  },
  {
   "cell_type": "markdown",
   "id": "e64b1fc6",
   "metadata": {},
   "source": [
    "I have 6 different assert statements that test the merge_3_sort algorithm. An assert statement returns nothing if the statement is True, and it will print an error if the statement is False. \n",
    "Each of assert statements below has different types of inputs to test if the function can sort different arrays. For instance, I created arrays with floats, repeats, and extreme numbers in mixed, sorted, or reverted order. \n",
    "None of the assert statements provide error; thus the test set is appropriate and probably sufficient for most arrays as long as they follow input conditions."
   ]
  },
  {
   "cell_type": "code",
   "execution_count": 398,
   "id": "ff1ef80d",
   "metadata": {},
   "outputs": [],
   "source": [
    "A = [1,2,3,4,5,6,7,8,9,10] #sorted array\n",
    "B = [10,9,8,7,6,5,4,3,2,1] #inverted order array\n",
    "C = [5,5,5,5,5,5] #same numbers\n",
    "D = [6,2,5,3,1,7,4] #mixed numbers\n",
    "E = [3,5,5,0,22,1,6,233,7,-1111,4] #mixed numbers with extreme numbers\n",
    "F = [2,2,4,0,0,0,0,0,2.2,0.0,2,5,344444,2,-9,2,2,0,0,0] #array with repeats, floats, integers mixed\n",
    "assert merge_3_sort(A,0,len(A) - 1) == sorted(A)\n",
    "assert merge_3_sort(B,0,len(B) - 1) == sorted(B)\n",
    "assert merge_3_sort(C,0,len(C) - 1) == sorted(C)\n",
    "assert merge_3_sort(D,0,len(D) - 1) == sorted(D)\n",
    "assert merge_3_sort(E,0,len(E) - 1) == sorted(E)"
   ]
  },
  {
   "cell_type": "markdown",
   "id": "75b88c8f",
   "metadata": {},
   "source": [
    "**(c)** The algorithm becomes unnecessarily complicated when it tries to sort a really short piece of the original array, continuing the splits into single-element arrays. To work around this:\n",
    "\n",
    "1. add a condition so that the algorithm uses selection sort (instead of continuing to recurse) if the input sublist length is below a certain threshold (which you should identify). \n",
    "2. justify on the basis of analytical **and** experimental arguments what might be the optimal threshold for switching to selection sort.\n",
    "3. include at least 5 assert statements that offer evidence that your code is correctly implemented.\n",
    "\n",
    "To ensure you won’t break your old code, first copy it to the cell below, and then create the new version in the code cell provided below."
   ]
  },
  {
   "cell_type": "code",
   "execution_count": 727,
   "id": "85aad4fe",
   "metadata": {},
   "outputs": [],
   "source": [
    "def selection_sort(array,p,s):\n",
    "#     steps = 0\n",
    "    \n",
    "    for i in range(p,s):\n",
    "#         print('heyy')\n",
    "#         steps += 1\n",
    "        min_index = i\n",
    "        \n",
    "        for j in range(i+1, s):\n",
    "#             steps += 1\n",
    "            if array[min_index] > array[j]:\n",
    "                min_index = j\n",
    "                \n",
    "#         steps += 1\n",
    "        array[min_index], array[i] = array[i], array[min_index]\n",
    "        \n",
    "    return array\n",
    "\n",
    "#receives threshold as its parameter\n",
    "def merge_3_sort_threshold(array, p, s, threshold):\n",
    "    \n",
    "    \n",
    "    if p < s:\n",
    "        #breaks down the array into 3 subarrays if the length of subarray is bigger than the threshold\n",
    "        if ((s-p)//3) > threshold:\n",
    "            q = p + ((s-p)//3)\n",
    "            r = p + 2*((s-p)//3)\n",
    "            #calls its own function to to recursively break down the array\n",
    "            merge_3_sort_threshold(array,p,q, threshold)\n",
    "            merge_3_sort_threshold(array,q+1,r+1, threshold)\n",
    "            merge_3_sort_threshold(array,r+2,s, threshold)\n",
    "            #merges the subarrays\n",
    "            merge_3(array, p, q, r, s)\n",
    "            return array\n",
    "        #when the subarray is smaller than the threshold, it will apply selection sort to each of the subarrays\n",
    "        elif ((s-p)//3) < threshold:\n",
    "            q = p + ((s-p)//3)\n",
    "            r = p + 2*((s-p)//3)\n",
    "            selection_sort(array,p,q+1)\n",
    "            selection_sort(array,q+1,r+2)\n",
    "            selection_sort(array,r+2,s+1)\n",
    "            merge_3(array, p, q, r, s)\n",
    "            return array\n",
    "    #returns a sorted array\n",
    "    return array\n"
   ]
  },
  {
   "cell_type": "code",
   "execution_count": 728,
   "id": "71745845",
   "metadata": {},
   "outputs": [],
   "source": [
    "#tests the function\n",
    "#prints nothing if the statement inside assert is True and prints an error otherwise.\n",
    "\n",
    "#sorted array\n",
    "A = [1,2,3,4,5,6,7,8,9,10] \n",
    "#inverted order array\n",
    "B = [10,9,8,7,6,5,4,3,2,1] \n",
    "#same numbers\n",
    "C = [5,5,5,5,5,5] \n",
    "#mixed numbers\n",
    "D = [6,2,5,3,1,7,4] \n",
    "#mixed numbers with extreme numbers\n",
    "E = [2,2,4,0,0,0,0,0,2.2,0.0,2,5,344444,2,-9,2,2,0,0,0] \n",
    "#array with repeats, floats, integers mixed\n",
    "F = [2,2,4,0,0,0,0,0,2.2,0.0,2,5,344444,2,-9,2,2,0,0,0] \n",
    "assert merge_3_sort_threshold(A,0,len(A) - 1,10) == sorted(A)\n",
    "assert merge_3_sort_threshold(B,0,len(B) - 1,10) == sorted(B)\n",
    "assert merge_3_sort_threshold(C,0,len(C) - 1,10) == sorted(C)\n",
    "assert merge_3_sort_threshold(D,0,len(D) - 1,10) == sorted(D)\n",
    "assert merge_3_sort_threshold(E,0,len(E) - 1,10) == sorted(E)"
   ]
  },
  {
   "cell_type": "code",
   "execution_count": 732,
   "id": "2fbdc1a3",
   "metadata": {
    "scrolled": true
   },
   "outputs": [
    {
     "name": "stderr",
     "output_type": "stream",
     "text": [
      "<ipython-input-732-f1b94bfae6ce>:16: RuntimeWarning: divide by zero encountered in log\n",
      "  y1 =3*x*np.log(x)/np.log(3)+15*x\n",
      "<ipython-input-732-f1b94bfae6ce>:16: RuntimeWarning: invalid value encountered in multiply\n",
      "  y1 =3*x*np.log(x)/np.log(3)+15*x\n"
     ]
    },
    {
     "data": {
      "text/plain": [
       "<matplotlib.legend.Legend at 0x7f9a25fa0190>"
      ]
     },
     "execution_count": 732,
     "metadata": {},
     "output_type": "execute_result"
    },
    {
     "data": {
      "image/png": "[encoded data removed]",
      "text/plain": [
       "<Figure size 432x288 with 1 Axes>"
      ]
     },
     "metadata": {
      "needs_background": "light"
     },
     "output_type": "display_data"
    }
   ],
   "source": [
    "#finding threshold analytically by graphing running time functions\n",
    "\n",
    "\n",
    "import matplotlib.pyplot as plt\n",
    "import numpy as np\n",
    " \n",
    "# setting the x - coordinates\n",
    "x = np.arange(0, 100, 1)\n",
    "# setting the corresponding y-coordinates for the running time of selection sort.\n",
    "y = (x**2/2)+x/2\n",
    "# selection sort graph\n",
    "plt.plot(x, y,label='selection sort')\n",
    "\n",
    "# setting the corresponding y-coordinates for the running time of merge_3_sort. \n",
    "#Inserted 15 as a constant for T(n) = 3T(n/3) + O(n)\n",
    "y1 =3*x*np.log(x)/np.log(3)+15*x\n",
    "# merge_3_sort graph\n",
    "plt.plot(x,y1,label='3 way merge sort')\n",
    "plt.legend()"
   ]
  },
  {
   "cell_type": "code",
   "execution_count": 725,
   "id": "88ac7e68",
   "metadata": {},
   "outputs": [
    {
     "name": "stdout",
     "output_type": "stream",
     "text": [
      "[4.979956429451704e-07, 3.355697845108807e-05, 2.964801387861371e-05, 5.551500362344086e-05, 7.609601016156375e-05, 9.786398732103407e-05, 9.903899626806378e-05, 0.00011935102520510554, 0.00013282199506647885, 0.00020010600565001369, 0.00023681801394559443, 0.00022413700935430825, 0.00025045601068995893, 0.00028780297725461423, 0.00032919301884248853, 0.00033252802677452564, 0.00037034499109722674, 0.00036050501512363553, 0.0003500860184431076, 0.00040164802339859307]\n"
     ]
    }
   ],
   "source": [
    "#store the mean running times of merge and selection sort\n",
    "mean_merge = []\n",
    "mean_selection = []\n",
    "for i in range (1,200,10):\n",
    "    inputs=[random.randrange(1,100) for j in range(i)]\n",
    "    merge=[]\n",
    "    selection=[]\n",
    "    for j in range(1,1000):\n",
    "        #uses timeit to measure how long it takes to run merge_3_sort for inputs\n",
    "        start1 =timeit.default_timer()\n",
    "        merge_3_sort(inputs,0,len(inputs)-1)\n",
    "        stop1=timeit.default_timer()\n",
    "        time1=stop1-start1\n",
    "        #appends its running time to merge\n",
    "        merge.append(time1)\n",
    "        \n",
    "        #uses timeit to measure how long it takes to run merge_3_sort for inputs\n",
    "        start2 = timeit.default_timer()\n",
    "        selection_sort(inputs,0,len(inputs)-1)\n",
    "        stop2=timeit.default_timer()\n",
    "        time2=stop2-start2\n",
    "        #appends its running time to selection\n",
    "        selection.append(time2)\n",
    "    mmerge = np.median(merge)\n",
    "    mean_merge.append(mmerge)\n",
    "    mselection = np.median(selection)\n",
    "    mean_selection.append(mselection)\n",
    "print(mean_merge)"
   ]
  },
  {
   "cell_type": "code",
   "execution_count": 731,
   "id": "22a53771",
   "metadata": {},
   "outputs": [
    {
     "data": {
      "text/plain": [
       "<matplotlib.legend.Legend at 0x7f9a26144700>"
      ]
     },
     "execution_count": 731,
     "metadata": {},
     "output_type": "execute_result"
    },
    {
     "data": {
      "image/png": "[encoded data removed]",
      "text/plain": [
       "<Figure size 432x288 with 1 Axes>"
      ]
     },
     "metadata": {
      "needs_background": "light"
     },
     "output_type": "display_data"
    }
   ],
   "source": [
    "#graph for experimental analysis comparing the running time of 3 way merge sort and selection sort. \n",
    "input_sizes = list(range(1,200,10))\n",
    "plt.plot(input_sizes,mean_merge,label='3 way merge sort')\n",
    "plt.plot(input_sizes,mean_selection,label='3 way merge sort')\n",
    "plt.legend()"
   ]
  },
  {
   "cell_type": "code",
   "execution_count": 646,
   "id": "adb31305",
   "metadata": {},
   "outputs": [],
   "source": [
    "mean_merge = []\n",
    "mean_selection = []\n",
    "for i in range (1,200,10):\n",
    "    inputs=[random.randrange(1,100) for j in range(i)]\n",
    "    merge=[]\n",
    "    selection=[]\n",
    "    for j in range(1,100):\n",
    "        start1 =timeit.default_timer()\n",
    "        merge_3_sort(inputs,0,len(inputs)-1)\n",
    "        stop1=timeit.default_timer()\n",
    "        time=stop1-start1\n",
    "        merge.append(time)\n",
    "        \n",
    "        start2 = timeit.default_timer()\n",
    "        selection_sort(inputs,0,len(inputs)-1)\n",
    "        stop2=timeit.default_timer()\n",
    "        time=stop2-start2\n",
    "        selection.append(time)\n",
    "    mmerge = sum(merge)/200\n",
    "    mean_merge.append(mmerge)\n",
    "    mselection = sum(selection)/200\n",
    "    mean_selection.append(mselection)"
   ]
  },
  {
   "cell_type": "code",
   "execution_count": 734,
   "id": "706a7992",
   "metadata": {},
   "outputs": [
    {
     "data": {
      "text/plain": [
       "<matplotlib.legend.Legend at 0x7f9a265657f0>"
      ]
     },
     "execution_count": 734,
     "metadata": {},
     "output_type": "execute_result"
    },
    {
     "data": {
      "image/png": "[encoded data removed]",
      "text/plain": [
       "<Figure size 432x288 with 1 Axes>"
      ]
     },
     "metadata": {
      "needs_background": "light"
     },
     "output_type": "display_data"
    }
   ],
   "source": [
    "input_sizes = list(range(1,200,10))\n",
    "plt.plot(input_sizes,mean_merge,label= '3 way merge sort')\n",
    "plt.plot(input_sizes,mean_selection, label='selection sort')\n",
    "plt.legend()"
   ]
  },
  {
   "cell_type": "markdown",
   "id": "d7bf5476",
   "metadata": {},
   "source": [
    "Finding threshold analytically and experimentally:\n",
    "Though merge sort out performs selection sort when inputs are sufficiently large, selection sort is more efficient than merge sort for smaller inputs. Using their running time functions, we can find an intersection where merge sort becomes more efficient than selection sort. The running time of selection sort is T(n)=(n^2/2)+n/2 while it is T(n)=3n*(log(n)/log(3))+Θ(n) for merge_3_sort where T(n) is the running time and n is the numer of inputs. Θ(n) in merge_3_sort function can be converted into c*n where c is a constant because Big-theta n sets both the lower and upper bound to be n with a constant c by definition. Constant c will vary but when we set c as 15, we can set the equation (n^2/2)+n/2=3n*(log(n)/log(3))+15n, which gives n = 50.41. This means that when the subarray size is smaller than 51, selection has smaller running time, as shown in the analytical and experimental graphs above. The experimental graph makes an average list of both algorithms' running times as input increases. The experimental graph also shows that the intersection occurs near 51, where selection sort performs better when input size is smaller that the intersection. \n"
   ]
  },
  {
   "cell_type": "markdown",
   "id": "10c5a3a0",
   "metadata": {},
   "source": [
    "**(d)** Finally, assess taking the hybrid approach (with the threshold) *versus* a strictly recursive algorithm (until the dividing step of the algorithm can no longer occur): \n",
    "\n",
    "1. make this comparison as complete as possible (the analysis should include no less than 100 words, and at most 300 words). \n",
    "2. your analysis must include both an analytical BigO complexity analysis, as well as graphical experimental evidence of your assertions. \n",
    "3. provide a word count. "
   ]
  },
  {
   "cell_type": "markdown",
   "id": "e3bb7abc",
   "metadata": {},
   "source": [
    "Analytical BigO complexity analysis:\n",
    "The running time of merge_3_sort without threshold is T(n)=3n*(log(n)/log(3))+n, where n and base 3 become insignificant as the input n increases asymptotically. Thus, the BigO of merge_3_sort is n*log(n). \n",
    "The merge_3_sort with threshold uses selection sort when the input array is broken down into subarrays smaller than threshold, it applies selection sort to sort subarrays. This means that the function will have time complexity of (n^2/2)+n/2 below threshold and 3n*(log(n)/log(3))+n when the subarrays are over the threshold. For BigO complexity analysis, we can disregard (n^2/2)+n/2 below threshold because the difference will decrease as n grows asympotically. Thus, they will both have O(n*(log(n)/log(3)).\n",
    "Graphical experimental evidence:\n",
    "The nested for loop finds the mean list of running time samples for merge sort with threshold for selection sort and without threshold. The experimental result supports the analytical BigO complexity analysis because merge sort with threshold is faster, but they have the same big-O notation as the input sizes grow. That is, the running times for both grow at under O(n*(log(n)/log(3)), though they have different constants that causes some difference in running times as shown in the graph below. \n",
    "word count = 189"
   ]
  },
  {
   "cell_type": "code",
   "execution_count": 737,
   "id": "26ebba38",
   "metadata": {},
   "outputs": [
    {
     "name": "stdout",
     "output_type": "stream",
     "text": [
      "[2.7610338293015956e-08, 9.5607407274656e-07, 2.093533083098009e-06, 2.757520880550146e-06, 4.057269950862974e-06, 5.959995876764879e-06, 7.587263098685071e-06, 9.005444939248264e-06, 1.0551687999395654e-05, 1.1222994915442541e-05, 1.284718472743407e-05, 1.458828305476345e-05, 1.6029535938287153e-05, 1.850693515734747e-05, 2.2830190020613373e-05, 3.218280486180447e-05, 3.1964423193130645e-05, 2.812382610864006e-05, 3.3645474031800406e-05, 2.9081634798785672e-05, 3.128042587195523e-05, 3.616825595963746e-05, 3.298168393666856e-05, 3.493278697715141e-05, 3.400601606699638e-05, 3.552690692595206e-05, 4.306548097520135e-05, 4.102699999930337e-05, 4.280272588948719e-05, 4.783143615350127e-05, 5.131351595628075e-05, 5.1540347951231526e-05, 5.225540715036914e-05, 5.5745888967067e-05, 5.557813111227006e-05, 6.145001301774755e-05, 6.94025149277877e-05, 6.11459260690026e-05, 6.571047197212465e-05, 6.815593491774053e-05, 6.6785616974812e-05, 7.049551972886548e-05, 7.916305397520773e-05, 8.126608692691661e-05, 7.879234408028424e-05, 8.633820197428577e-05, 8.946710883174092e-05, 8.206606091698632e-05, 8.6150741961319e-05, 8.871631690999493e-05, 9.055670493398792e-05, 8.574699593009427e-05, 9.008182180696167e-05, 9.641237102914602e-05, 9.657562983920797e-05, 9.743591884034686e-05, 0.00010013298090780154, 0.00010036050996859559, 0.00010477274694130756, 0.00011160492192720995, 0.00011831889205495826, 0.00011296164389932528, 0.00011958986718673259, 0.00012073069193866104, 0.00011153233767254277, 0.00012146959893289022, 0.00011991077294806018, 0.00013003175318590366, 0.000306677391869016, 0.00013477926593623125, 0.00013147814004332758, 0.0001424750899313949, 0.00013473027289728634, 0.00013376494697877207, 0.0001400331821932923, 0.00013803595487843267, 0.00013761910193716177, 0.00014233935199445114, 0.0001635657078877557, 0.00015323706815252081, 0.00015112904395209626, 0.00015806714512291365, 0.00016920309691340662, 0.0001687786179536488, 0.00017929993907455356, 0.00017200450802920387, 0.00018262130592484028, 0.00016657228211988694, 0.00017690974593278952, 0.00019507383080781437, 0.00019531460097641683, 0.00019187467807205394, 0.00018843521087546833, 0.00019062034814851359, 0.00018572009715717285, 0.00019823463202919812, 0.0002150536497065332, 0.0002256090090086218, 0.00028933886490995067, 0.00025576822907896713]\n",
      "[2.627403591759503e-08, 1.965123083209619e-06, 3.0865393637213855e-06, 6.001902132993564e-06, 7.794613076839595e-06, 1.1210510943783447e-05, 1.1519010993652047e-05, 1.473262917716056e-05, 1.6440285136923192e-05, 2.0820747944526376e-05, 2.4968241021269934e-05, 2.618629590142518e-05, 2.809519585571252e-05, 3.206252414383926e-05, 3.98057127604261e-05, 5.4487570829223844e-05, 5.4598124901531265e-05, 4.108489188365638e-05, 4.898563594906591e-05, 4.316866982844658e-05, 4.522988118696958e-05, 5.276595804025419e-05, 4.788114401162602e-05, 4.984564270125702e-05, 4.863490609568544e-05, 6.048982663196512e-05, 7.574694600771181e-05, 7.06540590035729e-05, 7.656406922615134e-05, 8.37104849924799e-05, 9.366401605075226e-05, 9.373067997512407e-05, 9.670636596274563e-05, 9.141737117897718e-05, 9.307428795727902e-05, 9.408518922282383e-05, 0.00011454763897927478, 0.00010120638273656368, 0.00010441512335091829, 0.0001079794360557571, 0.00010788471903651953, 0.00011611999807064422, 0.00013048533312394283, 0.00013293744882685133, 0.00012415089414571413, 0.00013676005075103604, 0.00014399562103790232, 0.0001304767968831584, 0.0001407248318719212, 0.00013579323203884996, 0.00013496205606497823, 0.00012375340083963237, 0.000134904700826155, 0.00013597590796416627, 0.00013671935672755352, 0.0001376032649714034, 0.00013716506902710534, 0.00014009463516413234, 0.00015164829589775763, 0.00016173120515304616, 0.00016414768193499186, 0.00016348412504885347, 0.00016687567386543378, 0.00017278812604490666, 0.00015965707096620463, 0.0001693196421256289, 0.00016580134886316956, 0.00017727964391815477, 0.00043764589107013306, 0.00018248089417465964, 0.0001808912401611451, 0.00019315755277057178, 0.00018322109786095096, 0.00019839631501236, 0.00021110527802375146, 0.0002252837240230292, 0.00021923724820953794, 0.00023265701098716817, 0.0002654138580546714, 0.00026556601404445246, 0.0002556385509960819, 0.00026521340484032406, 0.0002764464959909674, 0.00027015927003230897, 0.000294610040000407, 0.00028727733113919387, 0.00030656909712706694, 0.0002716285258939024, 0.0002957608400611207, 0.0003205816249246709, 0.0003233278100087773, 0.0003332814529130701, 0.000320922044076724, 0.0003280936349765398, 0.00031954374999622814, 0.00034315211605280636, 0.00036536910102586263, 0.00039852859583334066, 0.00046598451884347016, 0.00040851715387543665]\n"
     ]
    }
   ],
   "source": [
    "import matplotlib.pyplot as plt\n",
    "import timeit\n",
    "import numpy as np\n",
    "import random\n",
    "\n",
    "\n",
    "\n",
    "def merge_3_sort_threshold(array, p, s, threshold):\n",
    "    \n",
    "    if p < s:\n",
    "        if ((s-p)//3) > threshold:\n",
    "            q = p + ((s-p)//3)\n",
    "            r = p + 2*((s-p)//3)\n",
    "            merge_3_sort_threshold(array,p,q, threshold)\n",
    "            merge_3_sort_threshold(array,q+1,r+1, threshold)\n",
    "            merge_3_sort_threshold(array,r+2,s, threshold)\n",
    "            merge_3(array, p, q, r, s)\n",
    "            return array\n",
    "        elif ((s-p)//3) < threshold:\n",
    "            q = p + ((s-p)//3)\n",
    "            r = p + 2*((s-p)//3)\n",
    "            selection_sort(array,p,q+1)\n",
    "            selection_sort(array,q+1,r+2)\n",
    "            selection_sort(array,r+2,s+1)\n",
    "            merge_3(array, p, q, r, s)\n",
    "            return array\n",
    "    return array\n",
    "        \n",
    "    \n",
    "def merge_3(array, p, q, r, s):\n",
    "    First = array[p:q+1]\n",
    "    Second = array[q+1:r+2]\n",
    "    Third = array[r+2:s+1]\n",
    "    First.append(float('inf'))\n",
    "    Second.append(float('inf'))\n",
    "    Third.append(float('inf'))\n",
    "    i = j = l = 0\n",
    "    for k in range(p, s+1):\n",
    "        if First[i]<=Second[j] and First[i]<= Third[l]:\n",
    "            array[k]=First[i]\n",
    "            i+=1\n",
    "        elif First[i]>=Second[j] and Second[j]<= Third[l]:\n",
    "            array[k]=Second[j]\n",
    "            j+=1\n",
    "        else:\n",
    "            array[k]=Third[l]\n",
    "            l+=1\n",
    "\n",
    "def merge_3_sort(array, p, s):\n",
    "\n",
    "    if p < s:\n",
    "        q = p + ((s-p)//3)\n",
    "        r = p + 2*((s-p)//3)\n",
    "        merge_3_sort(array,p,q)\n",
    "        merge_3_sort(array,q+1,r+1)\n",
    "        merge_3_sort(array,r+2,s)\n",
    "        merge_3(array, p, q, r, s)\n",
    "        return array\n",
    "    \n",
    "def selection_sort(array,p,s):\n",
    "\n",
    "    \n",
    "    for i in range(p,s):\n",
    "\n",
    "\n",
    "        min_index = i\n",
    "        \n",
    "        for j in range(i+1, s):\n",
    "\n",
    "            if array[min_index] > array[j]:\n",
    "                min_index = j\n",
    "                \n",
    "\n",
    "        array[min_index], array[i] = array[i], array[min_index]\n",
    "        \n",
    "    return array\n",
    "\n",
    "    \n",
    "\n",
    "\n",
    "\n",
    "withThreshold = []\n",
    "withoutThreshold = []\n",
    "for i in range (1,1000,10):\n",
    "    inputs=[random.randrange(1,100) for j in range(i)]\n",
    "    t=[]\n",
    "    wot=[]\n",
    "    #runs the loop to get a list of running times for merge sort with and without threshold for selection sort\n",
    "    for j in range(1,100):\n",
    "        start1 =timeit.default_timer()\n",
    "        merge_3_sort_threshold(inputs,0,len(inputs)-1,16.25)\n",
    "        stop1=timeit.default_timer()\n",
    "        time=stop1-start1\n",
    "        t.append(time)\n",
    "        \n",
    "        start2 = timeit.default_timer()\n",
    "        merge_3_sort(inputs,0,len(inputs)-1)\n",
    "        stop2=timeit.default_timer()\n",
    "        time=stop2-start2\n",
    "        wot.append(time)\n",
    "    tavg = sum(t)/1000\n",
    "    withThreshold.append(tavg)\n",
    "    wotavg = sum(wot)/1000\n",
    "    withoutThreshold.append(wotavg)\n",
    "\n",
    "\n",
    "          \n",
    "\n",
    "print(withThreshold)\n",
    "print(withoutThreshold)"
   ]
  },
  {
   "cell_type": "code",
   "execution_count": 735,
   "id": "33efe9b3",
   "metadata": {},
   "outputs": [
    {
     "data": {
      "text/plain": [
       "<matplotlib.legend.Legend at 0x7f9a261d8100>"
      ]
     },
     "execution_count": 735,
     "metadata": {},
     "output_type": "execute_result"
    },
    {
     "data": {
      "image/png": "[encoded data removed]",
      "text/plain": [
       "<Figure size 432x288 with 1 Axes>"
      ]
     },
     "metadata": {
      "needs_background": "light"
     },
     "output_type": "display_data"
    }
   ],
   "source": [
    "#graph comparing the running time of 3 way merge sort with threshold and without threshold.\n",
    "input_sizes = list(range(1,1000,10))\n",
    "plt.plot(input_sizes,withThreshold, label='3 way merge sort with threshold')\n",
    "plt.plot(input_sizes,withoutThreshold,label='3 way merge sort with threshold')\n",
    "plt.legend()\n"
   ]
  },
  {
   "cell_type": "markdown",
   "id": "ae33a42d",
   "metadata": {},
   "source": [
    "HC Appendix\n",
    "-#algorithm: I created sorting algorithms implimenting appropiate stretegies and analyzed the efficiency of each algorithms. I explained the big-O notation, running time, and ways to modify algorithms in a precise manner.\n",
    "-#dataviz: I visualized the results of my findings for effective communication and delivery.\n",
    "-#interventionalstudy: Created experimental analysis to find the optimal threshold value compare 3 way merge sort with and without threshold to create evidence for my analysis. "
   ]
  }
 ],
 "metadata": {
  "kernelspec": {
   "display_name": "Python 3",
   "language": "python",
   "name": "python3"
  },
  "language_info": {
   "codemirror_mode": {
    "name": "ipython",
    "version": 3
   },
   "file_extension": ".py",
   "mimetype": "text/x-python",
   "name": "python",
   "nbconvert_exporter": "python",
   "pygments_lexer": "ipython3",
   "version": "3.8.8"
  },
  "toc": {
   "base_numbering": 1,
   "nav_menu": {},
   "number_sections": true,
   "sideBar": true,
   "skip_h1_title": false,
   "title_cell": "Table of Contents",
   "title_sidebar": "Contents",
   "toc_cell": false,
   "toc_position": {},
   "toc_section_display": true,
   "toc_window_display": false
  }
 },
 "nbformat": 4,
 "nbformat_minor": 5
}
